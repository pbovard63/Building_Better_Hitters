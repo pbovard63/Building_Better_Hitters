{
 "cells": [
  {
   "cell_type": "markdown",
   "metadata": {},
   "source": [
    "Based on modeling done in \"New Stats - Modeling\", I am making some changes to the features in my model.  These are summarized in that notebook, and the new baseball savant page is in the below:"
   ]
  },
  {
   "cell_type": "markdown",
   "metadata": {},
   "source": [
    "https://baseballsavant.mlb.com/leaderboard/custom?year=2020,2019,2018,2017,2016,2015&type=batter&filter=&sort=16&sortDir=desc&min=200&selections=player_age,b_total_pa,b_bb_percent,b_game,exit_velocity_avg,launch_angle_avg,barrel_batted_rate,solidcontact_percent,flareburner_percent,poorlyunder_percent,poorlytopped_percent,poorlyweak_percent,z_swing_percent,oz_swing_percent,iz_contact_percent,whiff_percent,pull_percent,straightaway_percent,opposite_percent,f_strike_percent,sprint_speed,&chart=false&x=player_age&y=player_age&r=no&chartType=beeswarm"
   ]
  },
  {
   "cell_type": "markdown",
   "metadata": {},
   "source": [
    "Import needed packages:"
   ]
  },
  {
   "cell_type": "code",
   "execution_count": 2,
   "metadata": {},
   "outputs": [],
   "source": [
    "import pandas as pd\n",
    "import numpy as np\n",
    "from bs4 import BeautifulSoup\n",
    "import requests\n",
    "import re\n",
    "from IPython.core.display import display, HTML    # make sure Jupyter knows to display it as HTML\n",
    "import time, os\n",
    "from selenium import webdriver\n",
    "from selenium.webdriver.common.keys import Keys\n",
    "import unicodedata\n",
    "import matplotlib.pyplot as plt\n",
    "from pylab import rcParams\n",
    "%matplotlib inline\n",
    "rcParams['figure.figsize'] = 20,10\n",
    "from scipy import stats\n",
    "from sklearn.linear_model import LinearRegression\n",
    "import seaborn as sns\n",
    "from sklearn.model_selection import train_test_split\n",
    "from sklearn.linear_model import LinearRegression, Lasso, LassoCV, Ridge, RidgeCV, ElasticNetCV\n",
    "from sklearn.metrics import r2_score\n",
    "from sklearn.pipeline import Pipeline\n",
    "from sklearn.preprocessing import StandardScaler"
   ]
  },
  {
   "cell_type": "markdown",
   "metadata": {},
   "source": [
    "Importing the functions I need to build the new dataframe:"
   ]
  },
  {
   "cell_type": "code",
   "execution_count": 3,
   "metadata": {},
   "outputs": [],
   "source": [
    "from baseball_savant_code import *\n",
    "from fangraphs_wrc_code import *"
   ]
  },
  {
   "cell_type": "markdown",
   "metadata": {},
   "source": [
    "## BELOW CHANGED TO MARKDOWN AFTER PICKLE:"
   ]
  },
  {
   "cell_type": "markdown",
   "metadata": {},
   "source": [
    "Add in the urls:"
   ]
  },
  {
   "cell_type": "markdown",
   "metadata": {},
   "source": [
    "savant_url = 'https://baseballsavant.mlb.com/leaderboard/custom?year=2020,2019,2018,2017,2016,2015&type=batter&filter=&sort=16&sortDir=desc&min=200&selections=player_age,b_total_pa,b_bb_percent,b_game,exit_velocity_avg,launch_angle_avg,barrel_batted_rate,solidcontact_percent,flareburner_percent,poorlyunder_percent,poorlytopped_percent,poorlyweak_percent,z_swing_percent,oz_swing_percent,iz_contact_percent,whiff_percent,pull_percent,straightaway_percent,opposite_percent,f_strike_percent,sprint_speed,&chart=false&x=player_age&y=player_age&r=no&chartType=beeswarm'\n",
    "fg_url = 'https://www.fangraphs.com/leaders/season-stat-grid?position=B&seasonStart=2015&seasonEnd=2020&stat=wRC%2B&pastMinPt=200&curMinPt=0&mode=normal'"
   ]
  },
  {
   "cell_type": "markdown",
   "metadata": {},
   "source": [
    "Create new dataframes:"
   ]
  },
  {
   "cell_type": "markdown",
   "metadata": {},
   "source": [
    "savant_df = Savant_DataFrame_Builder(savant_url)"
   ]
  },
  {
   "cell_type": "markdown",
   "metadata": {},
   "source": [
    "fg_df = wRC_DataFrame_Shifter(fg_url)"
   ]
  },
  {
   "cell_type": "markdown",
   "metadata": {},
   "source": [
    "savant_df.head()"
   ]
  },
  {
   "cell_type": "markdown",
   "metadata": {},
   "source": [
    "fg_df.info()"
   ]
  },
  {
   "cell_type": "markdown",
   "metadata": {},
   "source": [
    "## Merge The DF's\n",
    "*Note: this code is originally from Project_2_Savant notebook, moving here to clean up the workflow.*"
   ]
  },
  {
   "cell_type": "markdown",
   "metadata": {},
   "source": [
    "fg_df.rename(columns={'Name-Year':'Player_Year_ID'}, inplace=True)"
   ]
  },
  {
   "cell_type": "markdown",
   "metadata": {},
   "source": [
    "fg_df.head(2)"
   ]
  },
  {
   "cell_type": "markdown",
   "metadata": {},
   "source": [
    "Function to strip accent marks from names so they can all be mapped to the savant data:"
   ]
  },
  {
   "cell_type": "markdown",
   "metadata": {},
   "source": [
    "def strip_accents(s):\n",
    "    return ''.join(c for c in unicodedata.normalize('NFD', s)\n",
    "                   if unicodedata.category(c) != 'Mn')"
   ]
  },
  {
   "cell_type": "markdown",
   "metadata": {},
   "source": [
    "player_list = fg_df.Player_Year_ID.to_list()"
   ]
  },
  {
   "cell_type": "markdown",
   "metadata": {},
   "source": [
    "updated_names = [strip_accents(name).replace('?','e') for name in player_list]"
   ]
  },
  {
   "cell_type": "markdown",
   "metadata": {},
   "source": [
    "updated_names"
   ]
  },
  {
   "cell_type": "markdown",
   "metadata": {},
   "source": [
    "fg_df.Player_Year_ID = updated_names"
   ]
  },
  {
   "cell_type": "markdown",
   "metadata": {},
   "source": [
    "Back to Baseball Savant:"
   ]
  },
  {
   "cell_type": "markdown",
   "metadata": {},
   "source": [
    "player_list = savant_df.Player.tolist()"
   ]
  },
  {
   "cell_type": "markdown",
   "metadata": {},
   "source": [
    "player_list_split = [player.split(', ') for player in player_list]\n",
    "for player in player_list_split:\n",
    "    player[0] = player[0].strip()\n",
    "\n",
    "final_player_list = [(player[1] + ' ' + player[0]) for player in player_list_split]    "
   ]
  },
  {
   "cell_type": "markdown",
   "metadata": {},
   "source": [
    "print(final_player_list)"
   ]
  },
  {
   "cell_type": "markdown",
   "metadata": {},
   "source": [
    "year_list = savant_df.Year.tolist()"
   ]
  },
  {
   "cell_type": "markdown",
   "metadata": {},
   "source": [
    "year_list = [int(year) for year in year_list]\n",
    "print(year_list)"
   ]
  },
  {
   "cell_type": "markdown",
   "metadata": {},
   "source": [
    "player_year_id = []\n",
    "for i, player in enumerate(final_player_list):\n",
    "    id_str = player + \"-\" + str(year_list[i])\n",
    "    player_year_id.append(id_str)\n",
    "print(player_year_id)"
   ]
  },
  {
   "cell_type": "markdown",
   "metadata": {},
   "source": [
    "savant_df['Player_Year_ID'] = player_year_id"
   ]
  },
  {
   "cell_type": "markdown",
   "metadata": {},
   "source": [
    "savant_df.sample(15)"
   ]
  },
  {
   "cell_type": "markdown",
   "metadata": {},
   "source": [
    "Actual merging:"
   ]
  },
  {
   "cell_type": "markdown",
   "metadata": {},
   "source": [
    "combined_df = savant_df.merge(fg_df, how='left', on='Player_Year_ID')"
   ]
  },
  {
   "cell_type": "markdown",
   "metadata": {},
   "source": [
    "combined_df"
   ]
  },
  {
   "cell_type": "markdown",
   "metadata": {},
   "source": [
    "1893 rows as expected."
   ]
  },
  {
   "cell_type": "markdown",
   "metadata": {},
   "source": [
    "## Exploring combined DF:"
   ]
  },
  {
   "cell_type": "markdown",
   "metadata": {},
   "source": [
    "combined_df.info()"
   ]
  },
  {
   "cell_type": "markdown",
   "metadata": {},
   "source": [
    "Filling in null values:"
   ]
  },
  {
   "cell_type": "markdown",
   "metadata": {
    "scrolled": true
   },
   "source": [
    "combined_df[combined_df['wRC+'].isnull()]"
   ]
  },
  {
   "cell_type": "markdown",
   "metadata": {},
   "source": [
    "combined_df.iloc[222, 25] = 146 #2018\n",
    "combined_df.iloc[132, 25] = 104 #2019\n",
    "combined_df.iloc[521, 25] = 163 #2020\n",
    "combined_df.iloc[185, 25] = 146 #2017\n",
    "combined_df.iloc[133, 25] = 72 #2015\n",
    "combined_df.iloc[230, 25] = 119 #2016"
   ]
  },
  {
   "cell_type": "markdown",
   "metadata": {
    "scrolled": false
   },
   "source": [
    "combined_df.info()"
   ]
  },
  {
   "cell_type": "markdown",
   "metadata": {},
   "source": [
    "Convert needed columns to numeric:"
   ]
  },
  {
   "cell_type": "markdown",
   "metadata": {},
   "source": [
    "combined_df.drop(columns=['Player Link', 'Player_Year_ID'], inplace=True)"
   ]
  },
  {
   "cell_type": "markdown",
   "metadata": {},
   "source": [
    "num_col = list(combined_df.columns[1:])"
   ]
  },
  {
   "cell_type": "markdown",
   "metadata": {},
   "source": [
    "for column in num_col:\n",
    "    combined_df[column] = combined_df[column].apply(pd.to_numeric, errors='coerce')"
   ]
  },
  {
   "cell_type": "markdown",
   "metadata": {},
   "source": [
    "combined_df.info()"
   ]
  },
  {
   "cell_type": "markdown",
   "metadata": {},
   "source": [
    "Checking for values of 0 in wRC+"
   ]
  },
  {
   "cell_type": "markdown",
   "metadata": {},
   "source": [
    "combined_df[combined_df['wRC+'] < 10]"
   ]
  },
  {
   "cell_type": "markdown",
   "metadata": {},
   "source": [
    "#Players w/ exactly 200 PA - didn't pull from FanGraphs.\n",
    "combined_df.iloc[367, 23] = 65 #caratini, 2018\n",
    "combined_df.iloc[425, 23] = 52 #Elias Diaz, 2017\n",
    "combined_df.iloc[1046, 23] = 87 #Szczur, 2016\n",
    "combined_df.iloc[1291, 23] = 61 #Tyler Moore,2015\n",
    "#Jeff mathis 2019 is correct."
   ]
  },
  {
   "cell_type": "markdown",
   "metadata": {},
   "source": [
    "combined_df[combined_df['wRC+'] < 10]"
   ]
  },
  {
   "cell_type": "markdown",
   "metadata": {},
   "source": [
    "combined_df.describe()"
   ]
  },
  {
   "cell_type": "markdown",
   "metadata": {},
   "source": [
    "Pickle Dataframe, in case needed later:"
   ]
  },
  {
   "cell_type": "markdown",
   "metadata": {},
   "source": [
    "combined_df.to_pickle(\"./stats_round_3.pkl\")"
   ]
  },
  {
   "cell_type": "markdown",
   "metadata": {},
   "source": [
    "## ABOVE CHANGED TO MARKDOWN AFTER PICKLE"
   ]
  },
  {
   "cell_type": "markdown",
   "metadata": {},
   "source": [
    "Read in Pickle:"
   ]
  },
  {
   "cell_type": "code",
   "execution_count": 4,
   "metadata": {},
   "outputs": [],
   "source": [
    "combined_df = pd.read_pickle('./stats_round_3.pkl')"
   ]
  },
  {
   "cell_type": "code",
   "execution_count": 5,
   "metadata": {},
   "outputs": [
    {
     "data": {
      "text/html": [
       "<div>\n",
       "<style scoped>\n",
       "    .dataframe tbody tr th:only-of-type {\n",
       "        vertical-align: middle;\n",
       "    }\n",
       "\n",
       "    .dataframe tbody tr th {\n",
       "        vertical-align: top;\n",
       "    }\n",
       "\n",
       "    .dataframe thead th {\n",
       "        text-align: right;\n",
       "    }\n",
       "</style>\n",
       "<table border=\"1\" class=\"dataframe\">\n",
       "  <thead>\n",
       "    <tr style=\"text-align: right;\">\n",
       "      <th></th>\n",
       "      <th>Player</th>\n",
       "      <th>Year</th>\n",
       "      <th>Age</th>\n",
       "      <th>PA</th>\n",
       "      <th>BB%</th>\n",
       "      <th>G</th>\n",
       "      <th>Avg EV (MPH)</th>\n",
       "      <th>Avg LA (°)</th>\n",
       "      <th>Barrel%</th>\n",
       "      <th>Solid Contact %</th>\n",
       "      <th>...</th>\n",
       "      <th>Zone Swing %</th>\n",
       "      <th>Out of Zone Swing %</th>\n",
       "      <th>In Zone Contact %</th>\n",
       "      <th>Whiff %</th>\n",
       "      <th>Pull %</th>\n",
       "      <th>Straight Away %</th>\n",
       "      <th>Oppo %</th>\n",
       "      <th>First Strike %</th>\n",
       "      <th>Sprint Speed</th>\n",
       "      <th>wRC+</th>\n",
       "    </tr>\n",
       "  </thead>\n",
       "  <tbody>\n",
       "    <tr>\n",
       "      <th>0</th>\n",
       "      <td>Astudillo, Willians</td>\n",
       "      <td>2019</td>\n",
       "      <td>28</td>\n",
       "      <td>204</td>\n",
       "      <td>2.5</td>\n",
       "      <td>58</td>\n",
       "      <td>85.9</td>\n",
       "      <td>15.4</td>\n",
       "      <td>2.7</td>\n",
       "      <td>5.4</td>\n",
       "      <td>...</td>\n",
       "      <td>81.5</td>\n",
       "      <td>39.7</td>\n",
       "      <td>96.8</td>\n",
       "      <td>8.9</td>\n",
       "      <td>39.2</td>\n",
       "      <td>37.1</td>\n",
       "      <td>23.7</td>\n",
       "      <td>64.7</td>\n",
       "      <td>24.2</td>\n",
       "      <td>76</td>\n",
       "    </tr>\n",
       "    <tr>\n",
       "      <th>1</th>\n",
       "      <td>Revere, Ben</td>\n",
       "      <td>2015</td>\n",
       "      <td>27</td>\n",
       "      <td>634</td>\n",
       "      <td>5.0</td>\n",
       "      <td>152</td>\n",
       "      <td>83.1</td>\n",
       "      <td>5.0</td>\n",
       "      <td>0.0</td>\n",
       "      <td>2.1</td>\n",
       "      <td>...</td>\n",
       "      <td>56.8</td>\n",
       "      <td>28.3</td>\n",
       "      <td>96.4</td>\n",
       "      <td>10.7</td>\n",
       "      <td>34.3</td>\n",
       "      <td>41.2</td>\n",
       "      <td>24.4</td>\n",
       "      <td>56.6</td>\n",
       "      <td>28.4</td>\n",
       "      <td>98</td>\n",
       "    </tr>\n",
       "    <tr>\n",
       "      <th>2</th>\n",
       "      <td>Holt, Brock</td>\n",
       "      <td>2016</td>\n",
       "      <td>28</td>\n",
       "      <td>324</td>\n",
       "      <td>8.3</td>\n",
       "      <td>94</td>\n",
       "      <td>86.0</td>\n",
       "      <td>6.3</td>\n",
       "      <td>2.5</td>\n",
       "      <td>4.7</td>\n",
       "      <td>...</td>\n",
       "      <td>54.4</td>\n",
       "      <td>23.1</td>\n",
       "      <td>96.0</td>\n",
       "      <td>11.1</td>\n",
       "      <td>35.2</td>\n",
       "      <td>34.7</td>\n",
       "      <td>30.1</td>\n",
       "      <td>58.6</td>\n",
       "      <td>28.2</td>\n",
       "      <td>87</td>\n",
       "    </tr>\n",
       "    <tr>\n",
       "      <th>3</th>\n",
       "      <td>Murphy, Daniel</td>\n",
       "      <td>2015</td>\n",
       "      <td>30</td>\n",
       "      <td>538</td>\n",
       "      <td>5.8</td>\n",
       "      <td>130</td>\n",
       "      <td>89.9</td>\n",
       "      <td>11.9</td>\n",
       "      <td>4.9</td>\n",
       "      <td>6.2</td>\n",
       "      <td>...</td>\n",
       "      <td>70.1</td>\n",
       "      <td>31.5</td>\n",
       "      <td>95.9</td>\n",
       "      <td>9.0</td>\n",
       "      <td>37.3</td>\n",
       "      <td>35.1</td>\n",
       "      <td>27.6</td>\n",
       "      <td>57.2</td>\n",
       "      <td>25.7</td>\n",
       "      <td>109</td>\n",
       "    </tr>\n",
       "    <tr>\n",
       "      <th>4</th>\n",
       "      <td>Iglesias, Jose</td>\n",
       "      <td>2015</td>\n",
       "      <td>25</td>\n",
       "      <td>454</td>\n",
       "      <td>5.5</td>\n",
       "      <td>120</td>\n",
       "      <td>83.8</td>\n",
       "      <td>4.6</td>\n",
       "      <td>0.0</td>\n",
       "      <td>1.3</td>\n",
       "      <td>...</td>\n",
       "      <td>56.8</td>\n",
       "      <td>32.6</td>\n",
       "      <td>95.5</td>\n",
       "      <td>10.0</td>\n",
       "      <td>33.0</td>\n",
       "      <td>38.8</td>\n",
       "      <td>28.2</td>\n",
       "      <td>63.4</td>\n",
       "      <td>28.4</td>\n",
       "      <td>97</td>\n",
       "    </tr>\n",
       "  </tbody>\n",
       "</table>\n",
       "<p>5 rows × 24 columns</p>\n",
       "</div>"
      ],
      "text/plain": [
       "                 Player  Year  Age   PA  BB%    G  Avg EV (MPH)  Avg LA (°)  \\\n",
       "0   Astudillo, Willians  2019   28  204  2.5   58          85.9        15.4   \n",
       "1           Revere, Ben  2015   27  634  5.0  152          83.1         5.0   \n",
       "2           Holt, Brock  2016   28  324  8.3   94          86.0         6.3   \n",
       "3        Murphy, Daniel  2015   30  538  5.8  130          89.9        11.9   \n",
       "4        Iglesias, Jose  2015   25  454  5.5  120          83.8         4.6   \n",
       "\n",
       "   Barrel%  Solid Contact %  ...  Zone Swing %  Out of Zone Swing %  \\\n",
       "0      2.7              5.4  ...          81.5                 39.7   \n",
       "1      0.0              2.1  ...          56.8                 28.3   \n",
       "2      2.5              4.7  ...          54.4                 23.1   \n",
       "3      4.9              6.2  ...          70.1                 31.5   \n",
       "4      0.0              1.3  ...          56.8                 32.6   \n",
       "\n",
       "   In Zone Contact %  Whiff %  Pull %  Straight Away %  Oppo %  \\\n",
       "0               96.8      8.9    39.2             37.1    23.7   \n",
       "1               96.4     10.7    34.3             41.2    24.4   \n",
       "2               96.0     11.1    35.2             34.7    30.1   \n",
       "3               95.9      9.0    37.3             35.1    27.6   \n",
       "4               95.5     10.0    33.0             38.8    28.2   \n",
       "\n",
       "   First Strike %  Sprint Speed  wRC+  \n",
       "0            64.7          24.2    76  \n",
       "1            56.6          28.4    98  \n",
       "2            58.6          28.2    87  \n",
       "3            57.2          25.7   109  \n",
       "4            63.4          28.4    97  \n",
       "\n",
       "[5 rows x 24 columns]"
      ]
     },
     "execution_count": 5,
     "metadata": {},
     "output_type": "execute_result"
    }
   ],
   "source": [
    "combined_df.head()"
   ]
  },
  {
   "cell_type": "code",
   "execution_count": 6,
   "metadata": {},
   "outputs": [
    {
     "data": {
      "text/html": [
       "<div>\n",
       "<style scoped>\n",
       "    .dataframe tbody tr th:only-of-type {\n",
       "        vertical-align: middle;\n",
       "    }\n",
       "\n",
       "    .dataframe tbody tr th {\n",
       "        vertical-align: top;\n",
       "    }\n",
       "\n",
       "    .dataframe thead th {\n",
       "        text-align: right;\n",
       "    }\n",
       "</style>\n",
       "<table border=\"1\" class=\"dataframe\">\n",
       "  <thead>\n",
       "    <tr style=\"text-align: right;\">\n",
       "      <th></th>\n",
       "      <th>Year</th>\n",
       "      <th>Age</th>\n",
       "      <th>PA</th>\n",
       "      <th>BB%</th>\n",
       "      <th>G</th>\n",
       "      <th>Avg EV (MPH)</th>\n",
       "      <th>Avg LA (°)</th>\n",
       "      <th>Barrel%</th>\n",
       "      <th>Solid Contact %</th>\n",
       "      <th>Flare/Burner %</th>\n",
       "      <th>...</th>\n",
       "      <th>Zone Swing %</th>\n",
       "      <th>Out of Zone Swing %</th>\n",
       "      <th>In Zone Contact %</th>\n",
       "      <th>Whiff %</th>\n",
       "      <th>Pull %</th>\n",
       "      <th>Straight Away %</th>\n",
       "      <th>Oppo %</th>\n",
       "      <th>First Strike %</th>\n",
       "      <th>Sprint Speed</th>\n",
       "      <th>wRC+</th>\n",
       "    </tr>\n",
       "  </thead>\n",
       "  <tbody>\n",
       "    <tr>\n",
       "      <th>count</th>\n",
       "      <td>1893.000000</td>\n",
       "      <td>1893.000000</td>\n",
       "      <td>1893.000000</td>\n",
       "      <td>1893.000000</td>\n",
       "      <td>1893.000000</td>\n",
       "      <td>1893.000000</td>\n",
       "      <td>1893.000000</td>\n",
       "      <td>1893.000000</td>\n",
       "      <td>1893.000000</td>\n",
       "      <td>1893.000000</td>\n",
       "      <td>...</td>\n",
       "      <td>1893.000000</td>\n",
       "      <td>1893.000000</td>\n",
       "      <td>1893.000000</td>\n",
       "      <td>1893.000000</td>\n",
       "      <td>1893.000000</td>\n",
       "      <td>1893.000000</td>\n",
       "      <td>1893.000000</td>\n",
       "      <td>1893.000000</td>\n",
       "      <td>1893.000000</td>\n",
       "      <td>1893.000000</td>\n",
       "    </tr>\n",
       "    <tr>\n",
       "      <th>mean</th>\n",
       "      <td>2017.206022</td>\n",
       "      <td>28.826730</td>\n",
       "      <td>435.196513</td>\n",
       "      <td>8.519863</td>\n",
       "      <td>114.937137</td>\n",
       "      <td>88.413312</td>\n",
       "      <td>12.229688</td>\n",
       "      <td>6.797834</td>\n",
       "      <td>5.770100</td>\n",
       "      <td>24.733967</td>\n",
       "      <td>...</td>\n",
       "      <td>66.659641</td>\n",
       "      <td>28.202324</td>\n",
       "      <td>83.313418</td>\n",
       "      <td>23.935552</td>\n",
       "      <td>37.029900</td>\n",
       "      <td>37.787480</td>\n",
       "      <td>25.182831</td>\n",
       "      <td>60.317591</td>\n",
       "      <td>27.015742</td>\n",
       "      <td>101.297412</td>\n",
       "    </tr>\n",
       "    <tr>\n",
       "      <th>std</th>\n",
       "      <td>1.557844</td>\n",
       "      <td>3.816009</td>\n",
       "      <td>155.619031</td>\n",
       "      <td>3.169189</td>\n",
       "      <td>32.113398</td>\n",
       "      <td>2.215767</td>\n",
       "      <td>4.386683</td>\n",
       "      <td>4.020786</td>\n",
       "      <td>2.023787</td>\n",
       "      <td>3.418355</td>\n",
       "      <td>...</td>\n",
       "      <td>5.884461</td>\n",
       "      <td>5.974287</td>\n",
       "      <td>5.529379</td>\n",
       "      <td>6.284289</td>\n",
       "      <td>5.844259</td>\n",
       "      <td>3.847019</td>\n",
       "      <td>4.225243</td>\n",
       "      <td>3.862401</td>\n",
       "      <td>1.454924</td>\n",
       "      <td>25.640274</td>\n",
       "    </tr>\n",
       "    <tr>\n",
       "      <th>min</th>\n",
       "      <td>2015.000000</td>\n",
       "      <td>20.000000</td>\n",
       "      <td>200.000000</td>\n",
       "      <td>1.500000</td>\n",
       "      <td>46.000000</td>\n",
       "      <td>80.200000</td>\n",
       "      <td>-1.400000</td>\n",
       "      <td>0.000000</td>\n",
       "      <td>0.000000</td>\n",
       "      <td>13.700000</td>\n",
       "      <td>...</td>\n",
       "      <td>47.400000</td>\n",
       "      <td>10.200000</td>\n",
       "      <td>62.400000</td>\n",
       "      <td>7.900000</td>\n",
       "      <td>16.700000</td>\n",
       "      <td>25.900000</td>\n",
       "      <td>13.400000</td>\n",
       "      <td>48.200000</td>\n",
       "      <td>21.900000</td>\n",
       "      <td>2.000000</td>\n",
       "    </tr>\n",
       "    <tr>\n",
       "      <th>25%</th>\n",
       "      <td>2016.000000</td>\n",
       "      <td>26.000000</td>\n",
       "      <td>284.000000</td>\n",
       "      <td>6.300000</td>\n",
       "      <td>89.000000</td>\n",
       "      <td>87.000000</td>\n",
       "      <td>9.300000</td>\n",
       "      <td>3.700000</td>\n",
       "      <td>4.400000</td>\n",
       "      <td>22.400000</td>\n",
       "      <td>...</td>\n",
       "      <td>62.800000</td>\n",
       "      <td>24.000000</td>\n",
       "      <td>79.700000</td>\n",
       "      <td>19.500000</td>\n",
       "      <td>33.400000</td>\n",
       "      <td>35.300000</td>\n",
       "      <td>22.300000</td>\n",
       "      <td>57.500000</td>\n",
       "      <td>26.100000</td>\n",
       "      <td>84.000000</td>\n",
       "    </tr>\n",
       "    <tr>\n",
       "      <th>50%</th>\n",
       "      <td>2017.000000</td>\n",
       "      <td>28.000000</td>\n",
       "      <td>432.000000</td>\n",
       "      <td>8.200000</td>\n",
       "      <td>119.000000</td>\n",
       "      <td>88.500000</td>\n",
       "      <td>12.300000</td>\n",
       "      <td>6.300000</td>\n",
       "      <td>5.800000</td>\n",
       "      <td>24.600000</td>\n",
       "      <td>...</td>\n",
       "      <td>66.700000</td>\n",
       "      <td>28.100000</td>\n",
       "      <td>83.700000</td>\n",
       "      <td>23.800000</td>\n",
       "      <td>37.000000</td>\n",
       "      <td>37.800000</td>\n",
       "      <td>25.100000</td>\n",
       "      <td>60.400000</td>\n",
       "      <td>27.100000</td>\n",
       "      <td>101.000000</td>\n",
       "    </tr>\n",
       "    <tr>\n",
       "      <th>75%</th>\n",
       "      <td>2019.000000</td>\n",
       "      <td>32.000000</td>\n",
       "      <td>570.000000</td>\n",
       "      <td>10.400000</td>\n",
       "      <td>144.000000</td>\n",
       "      <td>89.900000</td>\n",
       "      <td>15.300000</td>\n",
       "      <td>9.300000</td>\n",
       "      <td>7.200000</td>\n",
       "      <td>27.100000</td>\n",
       "      <td>...</td>\n",
       "      <td>70.600000</td>\n",
       "      <td>32.100000</td>\n",
       "      <td>87.300000</td>\n",
       "      <td>28.100000</td>\n",
       "      <td>40.900000</td>\n",
       "      <td>40.400000</td>\n",
       "      <td>27.900000</td>\n",
       "      <td>63.000000</td>\n",
       "      <td>28.100000</td>\n",
       "      <td>118.000000</td>\n",
       "    </tr>\n",
       "    <tr>\n",
       "      <th>max</th>\n",
       "      <td>2020.000000</td>\n",
       "      <td>44.000000</td>\n",
       "      <td>747.000000</td>\n",
       "      <td>20.600000</td>\n",
       "      <td>162.000000</td>\n",
       "      <td>96.100000</td>\n",
       "      <td>29.700000</td>\n",
       "      <td>25.700000</td>\n",
       "      <td>18.000000</td>\n",
       "      <td>37.500000</td>\n",
       "      <td>...</td>\n",
       "      <td>83.700000</td>\n",
       "      <td>51.300000</td>\n",
       "      <td>96.800000</td>\n",
       "      <td>44.700000</td>\n",
       "      <td>56.800000</td>\n",
       "      <td>53.800000</td>\n",
       "      <td>43.400000</td>\n",
       "      <td>71.800000</td>\n",
       "      <td>30.800000</td>\n",
       "      <td>197.000000</td>\n",
       "    </tr>\n",
       "  </tbody>\n",
       "</table>\n",
       "<p>8 rows × 23 columns</p>\n",
       "</div>"
      ],
      "text/plain": [
       "              Year          Age           PA          BB%            G  \\\n",
       "count  1893.000000  1893.000000  1893.000000  1893.000000  1893.000000   \n",
       "mean   2017.206022    28.826730   435.196513     8.519863   114.937137   \n",
       "std       1.557844     3.816009   155.619031     3.169189    32.113398   \n",
       "min    2015.000000    20.000000   200.000000     1.500000    46.000000   \n",
       "25%    2016.000000    26.000000   284.000000     6.300000    89.000000   \n",
       "50%    2017.000000    28.000000   432.000000     8.200000   119.000000   \n",
       "75%    2019.000000    32.000000   570.000000    10.400000   144.000000   \n",
       "max    2020.000000    44.000000   747.000000    20.600000   162.000000   \n",
       "\n",
       "       Avg EV (MPH)   Avg LA (°)      Barrel%  Solid Contact %  \\\n",
       "count   1893.000000  1893.000000  1893.000000      1893.000000   \n",
       "mean      88.413312    12.229688     6.797834         5.770100   \n",
       "std        2.215767     4.386683     4.020786         2.023787   \n",
       "min       80.200000    -1.400000     0.000000         0.000000   \n",
       "25%       87.000000     9.300000     3.700000         4.400000   \n",
       "50%       88.500000    12.300000     6.300000         5.800000   \n",
       "75%       89.900000    15.300000     9.300000         7.200000   \n",
       "max       96.100000    29.700000    25.700000        18.000000   \n",
       "\n",
       "       Flare/Burner %  ...  Zone Swing %  Out of Zone Swing %  \\\n",
       "count     1893.000000  ...   1893.000000          1893.000000   \n",
       "mean        24.733967  ...     66.659641            28.202324   \n",
       "std          3.418355  ...      5.884461             5.974287   \n",
       "min         13.700000  ...     47.400000            10.200000   \n",
       "25%         22.400000  ...     62.800000            24.000000   \n",
       "50%         24.600000  ...     66.700000            28.100000   \n",
       "75%         27.100000  ...     70.600000            32.100000   \n",
       "max         37.500000  ...     83.700000            51.300000   \n",
       "\n",
       "       In Zone Contact %      Whiff %       Pull %  Straight Away %  \\\n",
       "count        1893.000000  1893.000000  1893.000000      1893.000000   \n",
       "mean           83.313418    23.935552    37.029900        37.787480   \n",
       "std             5.529379     6.284289     5.844259         3.847019   \n",
       "min            62.400000     7.900000    16.700000        25.900000   \n",
       "25%            79.700000    19.500000    33.400000        35.300000   \n",
       "50%            83.700000    23.800000    37.000000        37.800000   \n",
       "75%            87.300000    28.100000    40.900000        40.400000   \n",
       "max            96.800000    44.700000    56.800000        53.800000   \n",
       "\n",
       "            Oppo %  First Strike %  Sprint Speed         wRC+  \n",
       "count  1893.000000     1893.000000   1893.000000  1893.000000  \n",
       "mean     25.182831       60.317591     27.015742   101.297412  \n",
       "std       4.225243        3.862401      1.454924    25.640274  \n",
       "min      13.400000       48.200000     21.900000     2.000000  \n",
       "25%      22.300000       57.500000     26.100000    84.000000  \n",
       "50%      25.100000       60.400000     27.100000   101.000000  \n",
       "75%      27.900000       63.000000     28.100000   118.000000  \n",
       "max      43.400000       71.800000     30.800000   197.000000  \n",
       "\n",
       "[8 rows x 23 columns]"
      ]
     },
     "execution_count": 6,
     "metadata": {},
     "output_type": "execute_result"
    }
   ],
   "source": [
    "combined_df.describe()"
   ]
  },
  {
   "cell_type": "markdown",
   "metadata": {},
   "source": [
    "## Initial Visualization:"
   ]
  },
  {
   "cell_type": "code",
   "execution_count": 7,
   "metadata": {
    "scrolled": true
   },
   "outputs": [
    {
     "data": {
      "image/png": "[encoded data removed]",
      "text/plain": [
       "<Figure size 1440x720 with 2 Axes>"
      ]
     },
     "metadata": {
      "needs_background": "light"
     },
     "output_type": "display_data"
    }
   ],
   "source": [
    "sns.heatmap(combined_df.corr(), cmap=\"seismic\", annot=True, vmin=-1, vmax=1);"
   ]
  },
  {
   "cell_type": "markdown",
   "metadata": {},
   "source": [
    "BB Rate has a pretty strong relationship (relatively) to wRC+."
   ]
  },
  {
   "cell_type": "code",
   "execution_count": null,
   "metadata": {},
   "outputs": [],
   "source": [
    "sns.pairplot(combined_df, height=1.2, aspect=1.5);"
   ]
  },
  {
   "cell_type": "markdown",
   "metadata": {},
   "source": [
    "## Getting Ready for Modeling:"
   ]
  },
  {
   "cell_type": "code",
   "execution_count": 8,
   "metadata": {},
   "outputs": [
    {
     "data": {
      "text/plain": [
       "Index(['Player', 'Year', 'Age', 'PA', 'BB%', 'G', 'Avg EV (MPH)', 'Avg LA (°)',\n",
       "       'Barrel%', 'Solid Contact %', 'Flare/Burner %', 'Under %', 'Topped %',\n",
       "       'Poor/Weak %', 'Zone Swing %', 'Out of Zone Swing %',\n",
       "       'In Zone Contact %', 'Whiff %', 'Pull %', 'Straight Away %', 'Oppo %',\n",
       "       'First Strike %', 'Sprint Speed', 'wRC+'],\n",
       "      dtype='object')"
      ]
     },
     "execution_count": 8,
     "metadata": {},
     "output_type": "execute_result"
    }
   ],
   "source": [
    "combined_df.columns"
   ]
  },
  {
   "cell_type": "code",
   "execution_count": 9,
   "metadata": {},
   "outputs": [
    {
     "name": "stdout",
     "output_type": "stream",
     "text": [
      "<class 'pandas.core.frame.DataFrame'>\n",
      "Int64Index: 1893 entries, 0 to 1892\n",
      "Data columns (total 24 columns):\n",
      " #   Column               Non-Null Count  Dtype  \n",
      "---  ------               --------------  -----  \n",
      " 0   Player               1893 non-null   object \n",
      " 1   Year                 1893 non-null   int64  \n",
      " 2   Age                  1893 non-null   int64  \n",
      " 3   PA                   1893 non-null   int64  \n",
      " 4   BB%                  1893 non-null   float64\n",
      " 5   G                    1893 non-null   int64  \n",
      " 6   Avg EV (MPH)         1893 non-null   float64\n",
      " 7   Avg LA (°)           1893 non-null   float64\n",
      " 8   Barrel%              1893 non-null   float64\n",
      " 9   Solid Contact %      1893 non-null   float64\n",
      " 10  Flare/Burner %       1893 non-null   float64\n",
      " 11  Under %              1893 non-null   float64\n",
      " 12  Topped %             1893 non-null   float64\n",
      " 13  Poor/Weak %          1893 non-null   float64\n",
      " 14  Zone Swing %         1893 non-null   float64\n",
      " 15  Out of Zone Swing %  1893 non-null   float64\n",
      " 16  In Zone Contact %    1893 non-null   float64\n",
      " 17  Whiff %              1893 non-null   float64\n",
      " 18  Pull %               1893 non-null   float64\n",
      " 19  Straight Away %      1893 non-null   float64\n",
      " 20  Oppo %               1893 non-null   float64\n",
      " 21  First Strike %       1893 non-null   float64\n",
      " 22  Sprint Speed         1893 non-null   float64\n",
      " 23  wRC+                 1893 non-null   int64  \n",
      "dtypes: float64(18), int64(5), object(1)\n",
      "memory usage: 369.7+ KB\n"
     ]
    }
   ],
   "source": [
    "combined_df.info()"
   ]
  },
  {
   "cell_type": "code",
   "execution_count": 65,
   "metadata": {},
   "outputs": [],
   "source": [
    "#Stating with all columns:\n",
    "columns = ['Age','BB%','Avg EV (MPH)','Avg LA (°)','Barrel%','Solid Contact %',\n",
    "          'Flare/Burner %','Under %','Topped %','Poor/Weak %','Zone Swing %', 'Out of Zone Swing %','In Zone Contact %','Whiff %','Pull %',\n",
    "          'Straight Away %','Sprint Speed', 'Oppo %', 'First Strike %']"
   ]
  },
  {
   "cell_type": "code",
   "execution_count": 11,
   "metadata": {},
   "outputs": [],
   "source": [
    "from sklearn.model_selection import train_test_split\n",
    "from sklearn.linear_model import LinearRegression, Ridge #ordinary linear regression + w/ ridge regularization\n",
    "from sklearn.preprocessing import StandardScaler, PolynomialFeatures"
   ]
  },
  {
   "cell_type": "markdown",
   "metadata": {},
   "source": [
    "In order to make modeling easier to compare, functions running each are in lr_validation_train.py.  Reference that file for the code."
   ]
  },
  {
   "cell_type": "code",
   "execution_count": 17,
   "metadata": {},
   "outputs": [],
   "source": [
    "from lr_validation_train import *"
   ]
  },
  {
   "cell_type": "markdown",
   "metadata": {},
   "source": [
    "Validation with All columns:"
   ]
  },
  {
   "cell_type": "code",
   "execution_count": 18,
   "metadata": {
    "scrolled": false
   },
   "outputs": [
    {
     "name": "stdout",
     "output_type": "stream",
     "text": [
      "Simple Linear Regression Results:\n",
      "Simple Linear Regression val R^2: 0.578\n",
      "[('Age', -1.1393021432580883), ('BB%', 8.635885521544322), ('Avg EV (MPH)', 4.8729263807870495), ('Avg LA (°)', -0.949466005579449), ('Barrel%', 13.07560811670687), ('Solid Contact %', 2.4839938500578067), ('Flare/Burner %', 2.390026661931083), ('Under %', -6.403073502234974), ('Topped %', -5.837877781310984), ('Poor/Weak %', 0.2468439566940382), ('Zone Swing %', 2.30993474777891), ('Out of Zone Swing %', 4.461881829493623), ('In Zone Contact %', -3.5495126141433175), ('Whiff %', -18.15952485135606), ('Pull %', 4.864944795845796), ('Straight Away %', 1.8230356952035802), ('Sprint Speed', 5.047759882838717), ('Oppo %', 2.4887399554501415), ('First Strike %', -0.4971953513985148)]\n",
      "\n",
      "\n",
      "Simple Linear Regression w/ KFOLD CV Results:\n",
      "Simple regression scores:  [0.5801176864211051, 0.6336860535695004, 0.6401888948697183, 0.6515377063579442, 0.5783377828805363] \n",
      "\n",
      "Simple mean cv r^2: 0.617 +- 0.031\n",
      "\n",
      "\n",
      "Lasso Linear Regression w/ CV Results:\n",
      "Lasso R^2: 0.631243870430811\n",
      "Lasso mae: 12.137169154428602\n",
      "Lasso Coefficients: [('Age', -0.6521835889358321), ('BB%', 8.675256674514575), ('Avg EV (MPH)', 3.5726351480221483), ('Avg LA (°)', -1.033932357640315), ('Barrel%', 15.121872532378818), ('Solid Contact %', 2.3553107287148696), ('Flare/Burner %', 3.018781878110574), ('Under %', -5.115094810006683), ('Topped %', -4.507120740837057), ('Poor/Weak %', 0.46650292096659596), ('Zone Swing %', 2.436999223817527), ('Out of Zone Swing %', 4.492451690156418), ('In Zone Contact %', -2.7813635949242554), ('Whiff %', -17.103809920822854), ('Pull %', 1.122068670229163), ('Straight Away %', -0.431191517170922), ('Sprint Speed', 5.328937849116626), ('Oppo %', -0.0), ('First Strike %', -0.42862842122467953)]\n",
      "\n",
      "\n",
      "Ridge Linear Regression w/ CV Results:\n",
      "Ridge R^2: 0.6312668746038839\n",
      "Ridge mae: 12.134829134583468\n",
      "Ridge Coefficients: [('Age', -0.6584673682415408), ('BB%', 8.707450340911977), ('Avg EV (MPH)', 3.592041157781186), ('Avg LA (°)', -1.256751216676133), ('Barrel%', 15.079145949228769), ('Solid Contact %', 2.3522403920915878), ('Flare/Burner %', 3.0013450952713416), ('Under %', -5.0960424357075675), ('Topped %', -4.697226029217254), ('Poor/Weak %', 0.45679715578867885), ('Zone Swing %', 2.4414681926910586), ('Out of Zone Swing %', 4.562817249866935), ('In Zone Contact %', -2.9411408591683093), ('Whiff %', -17.27002220161242), ('Pull %', 1.2024571308696896), ('Straight Away %', -0.413328392897755), ('Sprint Speed', 5.347551591452894), ('Oppo %', 0.028002094837325242), ('First Strike %', -0.4543868711040619)]\n",
      "\n",
      "\n",
      "ElasticNet Linear Regression w/ CV Results:\n",
      "ElasticNet R^2: 0.6297322065510943\n",
      "ElasticNet mae: 12.19567129262482\n",
      "ElasticNet Coefficients: [('Age', -0.7315334985080756), ('BB%', 8.355845857907187), ('Avg EV (MPH)', 4.008104081876853), ('Avg LA (°)', -0.38190784304748565), ('Barrel%', 14.1179970612303), ('Solid Contact %', 2.204413112791344), ('Flare/Burner %', 2.824002678283963), ('Under %', -5.377649382054945), ('Topped %', -4.432939037333831), ('Poor/Weak %', 0.6016929316681344), ('Zone Swing %', 2.5100268648914468), ('Out of Zone Swing %', 3.8712354893790497), ('In Zone Contact %', -0.7652360314764035), ('Whiff %', -14.564741339573917), ('Pull %', 0.8113250248889441), ('Straight Away %', -0.5735077392756621), ('Sprint Speed', 5.079916637622304), ('Oppo %', -0.06267287560760734), ('First Strike %', -0.4909488691323707)]\n"
     ]
    }
   ],
   "source": [
    "validation_comparer(combined_df[columns], combined_df['wRC+'])"
   ]
  },
  {
   "cell_type": "markdown",
   "metadata": {},
   "source": [
    "Based on the above results, Ridge has the highest R^2.  Ridge R^2: 0.6312668746038839"
   ]
  },
  {
   "cell_type": "markdown",
   "metadata": {},
   "source": [
    "Running just with barrel%, topped %, and Sprint Speed:"
   ]
  },
  {
   "cell_type": "code",
   "execution_count": 28,
   "metadata": {},
   "outputs": [
    {
     "name": "stdout",
     "output_type": "stream",
     "text": [
      "Simple Linear Regression Results:\n",
      "Simple Linear Regression val R^2: 0.325\n",
      "[('Barrel%', 13.517412767264343), ('Topped %', -1.5661487768233235), ('Sprint Speed', 2.060082354592988)]\n",
      "\n",
      "\n",
      "Simple Linear Regression w/ KFOLD CV Results:\n",
      "Simple regression scores:  [0.3381757773461168, 0.25827027133057856, 0.341049370609657, 0.2642224593251281, 0.2850660914248966] \n",
      "\n",
      "Simple mean cv r^2: 0.297 +- 0.036\n",
      "\n",
      "\n",
      "Lasso Linear Regression w/ CV Results:\n",
      "Lasso R^2: 0.30363323758920957\n",
      "Lasso mae: 16.758477340294885\n",
      "Lasso Coefficients: [('Barrel%', 13.509032536587076), ('Topped %', -1.3364970242375895), ('Sprint Speed', 2.005269634499761)]\n",
      "\n",
      "\n",
      "Ridge Linear Regression w/ CV Results:\n",
      "Ridge R^2: 0.30361927956347534\n",
      "Ridge mae: 16.759281326161602\n",
      "Ridge Coefficients: [('Barrel%', 13.409993048814348), ('Topped %', -1.3903478460323841), ('Sprint Speed', 2.002081680074902)]\n",
      "\n",
      "\n",
      "ElasticNet Linear Regression w/ CV Results:\n",
      "ElasticNet R^2: 0.3035602399628876\n",
      "ElasticNet mae: 16.761343466668073\n",
      "ElasticNet Coefficients: [('Barrel%', 13.279107435606045), ('Topped %', -1.4223525525178675), ('Sprint Speed', 1.9603540059251456)]\n"
     ]
    }
   ],
   "source": [
    "validation_comparer(combined_df[['Barrel%', 'Topped %', 'Sprint Speed']], combined_df['wRC+'])"
   ]
  },
  {
   "cell_type": "markdown",
   "metadata": {},
   "source": [
    "Original Lasso set Oppo to Zero.  Trying that:"
   ]
  },
  {
   "cell_type": "code",
   "execution_count": 66,
   "metadata": {},
   "outputs": [],
   "source": [
    "#removing oppo % from columns:\n",
    "columns2 = ['Age','BB%','Avg EV (MPH)','Avg LA (°)','Barrel%','Solid Contact %',\n",
    "          'Flare/Burner %','Under %','Topped %','Poor/Weak %','Zone Swing %', 'Out of Zone Swing %','In Zone Contact %','Whiff %','Pull %',\n",
    "          'Straight Away %','Sprint Speed', 'First Strike %']"
   ]
  },
  {
   "cell_type": "code",
   "execution_count": 68,
   "metadata": {},
   "outputs": [
    {
     "name": "stdout",
     "output_type": "stream",
     "text": [
      "Simple Linear Regression Results:\n",
      "Simple Linear Regression val R^2: 0.578\n",
      "[('Age', -1.1393594055590681), ('BB%', 8.637063012420132), ('Avg EV (MPH)', 4.870206647135813), ('Avg LA (°)', -0.9530823271230414), ('Barrel%', 13.074919034034048), ('Solid Contact %', 2.4847887632273147), ('Flare/Burner %', 2.3906805721021747), ('Under %', -6.400733108651408), ('Topped %', -5.836270440009567), ('Poor/Weak %', 0.24544876398658708), ('Zone Swing %', 2.308723949343691), ('Out of Zone Swing %', 4.462334355723339), ('In Zone Contact %', -3.5476375449661854), ('Whiff %', -18.154261043471617), ('Pull %', 1.3993812258525955), ('Straight Away %', -0.4968899672565484), ('Sprint Speed', 5.048026332552358), ('First Strike %', -0.49725537116280893)]\n",
      "\n",
      "\n",
      "Simple Linear Regression w/ KFOLD CV Results:\n",
      "Simple regression scores:  [0.5802317051156498, 0.6336739330745562, 0.6402914222272593, 0.6517846844306607, 0.5784696982576918] \n",
      "\n",
      "Simple mean cv r^2: 0.617 +- 0.031\n",
      "\n",
      "\n",
      "Lasso Linear Regression w/ CV Results:\n",
      "Lasso R^2: 0.6312438709409803\n",
      "Lasso mae: 12.13716909081158\n",
      "Lasso Coefficients: [('Age', -0.6521835133550133), ('BB%', 8.67525661198575), ('Avg EV (MPH)', 3.5726355034694097), ('Avg LA (°)', -1.0339341185365696), ('Barrel%', 15.121870737174254), ('Solid Contact %', 2.355309854136447), ('Flare/Burner %', 3.0187805156867555), ('Under %', -5.115096719258063), ('Topped %', -4.507124642985132), ('Poor/Weak %', 0.4665021148288216), ('Zone Swing %', 2.4369989324266617), ('Out of Zone Swing %', 4.492452412810891), ('In Zone Contact %', -2.781367921133319), ('Whiff %', -17.103813900531037), ('Pull %', 1.1220691396407574), ('Straight Away %', -0.4311913882043044), ('Sprint Speed', 5.328937750038564), ('First Strike %', -0.42862857189985537)]\n",
      "\n",
      "\n",
      "Ridge Linear Regression w/ CV Results:\n",
      "Ridge R^2: 0.6312667988927052\n",
      "Ridge mae: 12.134842865740033\n",
      "Ridge Coefficients: [('Age', -0.6584588610482373), ('BB%', 8.70746503053997), ('Avg EV (MPH)', 3.592012440044619), ('Avg LA (°)', -1.2568373038674707), ('Barrel%', 15.079142734494557), ('Solid Contact %', 2.352251730928471), ('Flare/Burner %', 3.001364752369102), ('Under %', -5.095993345828669), ('Topped %', -4.697217033990432), ('Poor/Weak %', 0.456781885738756), ('Zone Swing %', 2.4414592646782682), ('Out of Zone Swing %', 4.562832170452634), ('In Zone Contact %', -2.941163757360135), ('Whiff %', -17.270019556990754), ('Pull %', 1.1634396480763554), ('Straight Away %', -0.43885242571054534), ('Sprint Speed', 5.347557551943877), ('First Strike %', -0.4543875979585871)]\n",
      "\n",
      "\n",
      "ElasticNet Linear Regression w/ CV Results:\n",
      "ElasticNet R^2: 0.6297314622558547\n",
      "ElasticNet mae: 12.19566150830299\n",
      "ElasticNet Coefficients: [('Age', -0.7314775169271424), ('BB%', 8.355516943676236), ('Avg EV (MPH)', 4.0084281109573485), ('Avg LA (°)', -0.38117317863556144), ('Barrel%', 14.118199914005753), ('Solid Contact %', 2.204489964390515), ('Flare/Burner %', 2.823545798150824), ('Under %', -5.377607265003696), ('Topped %', -4.43272100350495), ('Poor/Weak %', 0.6019496175403465), ('Zone Swing %', 2.5099800850354015), ('Out of Zone Swing %', 3.870985345313355), ('In Zone Contact %', -0.7645896979949661), ('Whiff %', -14.563963074806713), ('Pull %', 0.8949861797976645), ('Straight Away %', -0.519332318296544), ('Sprint Speed', 5.079702611770231), ('First Strike %', -0.4911843531541419)]\n"
     ]
    }
   ],
   "source": [
    "validation_comparer(combined_df[columns2], combined_df['wRC+'])"
   ]
  },
  {
   "cell_type": "markdown",
   "metadata": {},
   "source": [
    "Same results!"
   ]
  },
  {
   "cell_type": "code",
   "execution_count": 88,
   "metadata": {},
   "outputs": [],
   "source": [
    "from lasso_polynomial import *"
   ]
  },
  {
   "cell_type": "code",
   "execution_count": 89,
   "metadata": {},
   "outputs": [
    {
     "ename": "NameError",
     "evalue": "name 'PolynomialFeatures' is not defined",
     "output_type": "error",
     "traceback": [
      "\u001b[0;31m---------------------------------------------------------------------------\u001b[0m",
      "\u001b[0;31mNameError\u001b[0m                                 Traceback (most recent call last)",
      "\u001b[0;32m<ipython-input-89-9f20aa170631>\u001b[0m in \u001b[0;36m<module>\u001b[0;34m\u001b[0m\n\u001b[0;32m----> 1\u001b[0;31m \u001b[0mlasso_polynomial_lr\u001b[0m\u001b[0;34m(\u001b[0m\u001b[0mcombined_df\u001b[0m\u001b[0;34m[\u001b[0m\u001b[0mcolumns\u001b[0m\u001b[0;34m]\u001b[0m\u001b[0;34m,\u001b[0m \u001b[0mcombined_df\u001b[0m\u001b[0;34m[\u001b[0m\u001b[0;34m'wRC+'\u001b[0m\u001b[0;34m]\u001b[0m\u001b[0;34m)\u001b[0m\u001b[0;34m\u001b[0m\u001b[0;34m\u001b[0m\u001b[0m\n\u001b[0m",
      "\u001b[0;32m~/Documents/GitHub/Metis_Project_2/lasso_polynomial.py\u001b[0m in \u001b[0;36mlasso_polynomial_lr\u001b[0;34m(X, y)\u001b[0m\n\u001b[1;32m     23\u001b[0m     \u001b[0mX_train_val\u001b[0m\u001b[0;34m,\u001b[0m \u001b[0mX_test\u001b[0m\u001b[0;34m,\u001b[0m \u001b[0my_train_val\u001b[0m\u001b[0;34m,\u001b[0m \u001b[0my_test\u001b[0m \u001b[0;34m=\u001b[0m \u001b[0mtrain_test_split\u001b[0m\u001b[0;34m(\u001b[0m\u001b[0mX\u001b[0m\u001b[0;34m,\u001b[0m \u001b[0my\u001b[0m\u001b[0;34m,\u001b[0m \u001b[0mtest_size\u001b[0m\u001b[0;34m=\u001b[0m\u001b[0;36m.2\u001b[0m\u001b[0;34m,\u001b[0m \u001b[0mrandom_state\u001b[0m\u001b[0;34m=\u001b[0m\u001b[0;36m5\u001b[0m\u001b[0;34m)\u001b[0m\u001b[0;34m\u001b[0m\u001b[0;34m\u001b[0m\u001b[0m\n\u001b[1;32m     24\u001b[0m \u001b[0;34m\u001b[0m\u001b[0m\n\u001b[0;32m---> 25\u001b[0;31m     \u001b[0mp\u001b[0m \u001b[0;34m=\u001b[0m \u001b[0mPolynomialFeatures\u001b[0m\u001b[0;34m(\u001b[0m\u001b[0mdegree\u001b[0m\u001b[0;34m=\u001b[0m\u001b[0;36m2\u001b[0m\u001b[0;34m)\u001b[0m\u001b[0;34m\u001b[0m\u001b[0;34m\u001b[0m\u001b[0m\n\u001b[0m\u001b[1;32m     26\u001b[0m     \u001b[0mX_train_val_poly\u001b[0m \u001b[0;34m=\u001b[0m \u001b[0mp\u001b[0m\u001b[0;34m.\u001b[0m\u001b[0mfit_transform\u001b[0m\u001b[0;34m(\u001b[0m\u001b[0mX_train_val\u001b[0m\u001b[0;34m)\u001b[0m\u001b[0;34m\u001b[0m\u001b[0;34m\u001b[0m\u001b[0m\n\u001b[1;32m     27\u001b[0m \u001b[0;34m\u001b[0m\u001b[0m\n",
      "\u001b[0;31mNameError\u001b[0m: name 'PolynomialFeatures' is not defined"
     ]
    }
   ],
   "source": [
    "lasso_polynomial_lr(combined_df[columns], combined_df['wRC+'])"
   ]
  },
  {
   "cell_type": "code",
   "execution_count": null,
   "metadata": {},
   "outputs": [],
   "source": []
  },
  {
   "cell_type": "code",
   "execution_count": null,
   "metadata": {},
   "outputs": [],
   "source": []
  },
  {
   "cell_type": "code",
   "execution_count": null,
   "metadata": {},
   "outputs": [],
   "source": []
  },
  {
   "cell_type": "code",
   "execution_count": null,
   "metadata": {},
   "outputs": [],
   "source": []
  },
  {
   "cell_type": "markdown",
   "metadata": {},
   "source": [
    "## Running Lasso with Polynomial Features"
   ]
  },
  {
   "cell_type": "code",
   "execution_count": null,
   "metadata": {},
   "outputs": [],
   "source": [
    "m = LassoCV(cv=5)\n",
    "p = PolynomialFeatures(degree=2)\n",
    "\n",
    "X_train_poly = p.fit_transform(X_train_val)\n",
    "\n",
    "s = StandardScaler(with_mean=False)\n",
    "X_train_val_poly_scaled = s.fit_transform(X_train_poly)\n",
    "\n",
    "m.fit(X_train_val_poly_scaled,y_train_val)\n",
    "m.score(X_train_val_poly_scaled,y_train_val)"
   ]
  },
  {
   "cell_type": "code",
   "execution_count": null,
   "metadata": {},
   "outputs": [],
   "source": [
    "m.alpha_"
   ]
  },
  {
   "cell_type": "code",
   "execution_count": null,
   "metadata": {},
   "outputs": [],
   "source": [
    "lasso_poly_train_set_pred = m.predict(X_train_val_poly_scaled)"
   ]
  },
  {
   "cell_type": "code",
   "execution_count": null,
   "metadata": {},
   "outputs": [],
   "source": [
    "mae(y_train_val, lasso_poly_train_set_pred)"
   ]
  },
  {
   "cell_type": "code",
   "execution_count": null,
   "metadata": {},
   "outputs": [],
   "source": [
    "r2_score(y_train_val, lasso_poly_train_set_pred)"
   ]
  },
  {
   "cell_type": "code",
   "execution_count": null,
   "metadata": {},
   "outputs": [],
   "source": [
    "list(zip(p.get_feature_names(), m.coef_))"
   ]
  },
  {
   "cell_type": "code",
   "execution_count": null,
   "metadata": {},
   "outputs": [],
   "source": [
    "X_train_val.info()"
   ]
  },
  {
   "cell_type": "markdown",
   "metadata": {},
   "source": [
    " ('x2 x18', 5.136694660948854) #Avg EV * SPrint Speed  \n",
    "('x4 x15', 6.0399998242563075) #Barrel % * Straight Away %  \n",
    "('x12 x13', -6.538302723785151), #IN zone contact * Whiff %  \n",
    "('x13^2', -6.7601579817100825), #Whiff %^2  \n",
    "'x1 x11', 3.0734475598431295) BB%*OUt of Zone Swing Rate*\n",
    "('x4 x8', 2.985381941312241), Barrel*Out of zone swing\n",
    "('x4 x12', 4.754249915766434) #barrel%*in zone contact*\n",
    "('x8 x12', -3.4788440522742548) topped*inzonecontact"
   ]
  },
  {
   "cell_type": "markdown",
   "metadata": {},
   "source": [
    "### Trying Lasso with Above Interactions:"
   ]
  },
  {
   "cell_type": "markdown",
   "metadata": {},
   "source": [
    "### Lasso:"
   ]
  },
  {
   "cell_type": "code",
   "execution_count": null,
   "metadata": {},
   "outputs": [],
   "source": [
    "from sklearn.model_selection import train_test_split\n",
    "from sklearn.linear_model import LinearRegression, Lasso, LassoCV, Ridge, RidgeCV, ElasticNetCV\n",
    "from sklearn.metrics import r2_score"
   ]
  },
  {
   "cell_type": "code",
   "execution_count": null,
   "metadata": {},
   "outputs": [],
   "source": [
    "from sklearn.pipeline import Pipeline\n",
    "from sklearn.preprocessing import StandardScaler"
   ]
  },
  {
   "cell_type": "code",
   "execution_count": null,
   "metadata": {},
   "outputs": [],
   "source": [
    "columns"
   ]
  },
  {
   "cell_type": "code",
   "execution_count": null,
   "metadata": {},
   "outputs": [],
   "source": [
    "X = combined_df[columns]\n",
    "y = combined_df['wRC+']"
   ]
  },
  {
   "cell_type": "markdown",
   "metadata": {},
   "source": [
    "Adding Interactions:"
   ]
  },
  {
   "cell_type": "markdown",
   "metadata": {},
   "source": [
    " ('x2 x18', 5.136694660948854) #Avg EV * SPrint Speed  \n",
    "('x4 x15', 6.0399998242563075) #Barrel % * Straight Away %  \n",
    "('x12 x13', -6.538302723785151), #IN zone contact * Whiff %  \n",
    "('x13^2', -6.7601579817100825), #Whiff %^2  \n",
    "'x1 x11', 3.0734475598431295) BB%*OUt of Zone Swing Rate*  \n",
    "('x4 x8', 2.985381941312241), Barrel*Out of zone swing  \n",
    "('x4 x12', 4.754249915766434) #barrel%*in zone contact*  \n",
    "('x8 x12', -3.4788440522742548) topped*inzonecontact  "
   ]
  },
  {
   "cell_type": "code",
   "execution_count": null,
   "metadata": {},
   "outputs": [],
   "source": [
    "X['EV*Speed'] = X['Avg EV (MPH)'] * X['Sprint Speed']\n",
    "X['Barrel*StraightAway'] = X['Barrel%'] * X['Straight Away %']\n",
    "X['InZoneContact*Whiff'] = X['In Zone Contact %'] * X['Whiff %']\n",
    "X['Whiff^2'] = X['Whiff %']**2\n",
    "X['BB-OutOfZone'] = X['BB%'] * X['Out of Zone Swing %']\n",
    "X['Barrel-OutOfZone'] = X['Barrel%'] * X['Out of Zone Swing %']\n",
    "X['Barrel-InZone'] = X['Barrel%'] * X['In Zone Contact %']\n",
    "X['Topped-InZone'] = X['Topped %'] * X['In Zone Contact %']"
   ]
  },
  {
   "cell_type": "code",
   "execution_count": null,
   "metadata": {},
   "outputs": [],
   "source": [
    "X.head()"
   ]
  },
  {
   "cell_type": "code",
   "execution_count": null,
   "metadata": {},
   "outputs": [],
   "source": [
    "X_train_val, X_test, y_train_val, y_test = train_test_split(X, y, test_size=.2, random_state=5)"
   ]
  },
  {
   "cell_type": "code",
   "execution_count": null,
   "metadata": {
    "scrolled": true
   },
   "outputs": [],
   "source": [
    "std = StandardScaler()\n",
    "std.fit(X_train_val.values)"
   ]
  },
  {
   "cell_type": "code",
   "execution_count": null,
   "metadata": {},
   "outputs": [],
   "source": [
    "X_tr = std.transform(X_train_val.values)"
   ]
  },
  {
   "cell_type": "code",
   "execution_count": null,
   "metadata": {},
   "outputs": [],
   "source": [
    "X_te = std.transform(X_test.values)"
   ]
  },
  {
   "cell_type": "code",
   "execution_count": null,
   "metadata": {},
   "outputs": [],
   "source": [
    "#alphavec = np.linspace(0,100)\n",
    "\n",
    "#lasso_int_model = LassoCV(alphas = alphavec, cv=5)\n",
    "lasso_int_model = LassoCV(cv= 5)\n",
    "lasso_int_model.fit(X_tr, y_train_val)"
   ]
  },
  {
   "cell_type": "code",
   "execution_count": null,
   "metadata": {
    "scrolled": true
   },
   "outputs": [],
   "source": [
    "lasso_int_model.alpha_"
   ]
  },
  {
   "cell_type": "code",
   "execution_count": null,
   "metadata": {},
   "outputs": [],
   "source": [
    "list(zip(X.columns, lasso_int_model.coef_))"
   ]
  },
  {
   "cell_type": "markdown",
   "metadata": {},
   "source": [
    "Based on the features, it seems that barrel rate and in zone contact rate are the most correlated in the position direction."
   ]
  },
  {
   "cell_type": "code",
   "execution_count": null,
   "metadata": {},
   "outputs": [],
   "source": [
    "lasso_int_model.intercept_"
   ]
  },
  {
   "cell_type": "markdown",
   "metadata": {},
   "source": [
    "Intercept matches up, 101 is just above league average wRC+ of 100."
   ]
  },
  {
   "cell_type": "code",
   "execution_count": null,
   "metadata": {},
   "outputs": [],
   "source": [
    "train_val_pred = lasso_int_model.predict(X_tr)"
   ]
  },
  {
   "cell_type": "code",
   "execution_count": null,
   "metadata": {},
   "outputs": [],
   "source": [
    "mae(y_train_val, train_val_pred)"
   ]
  },
  {
   "cell_type": "code",
   "execution_count": null,
   "metadata": {},
   "outputs": [],
   "source": [
    "r2_score(y_train_val, train_val_pred)"
   ]
  },
  {
   "cell_type": "markdown",
   "metadata": {},
   "source": [
    "Didn't siginicantly increase the original Lasso R^2 value (0.6313804374539747)"
   ]
  },
  {
   "cell_type": "markdown",
   "metadata": {},
   "source": [
    "## Of all the models, Lasso performed the best on train/val. "
   ]
  },
  {
   "cell_type": "markdown",
   "metadata": {},
   "source": [
    "### This is the same result as last time, with Lasso performing best.  However, it looks like the change in terms has boosted r^2 as I thought would happen."
   ]
  },
  {
   "cell_type": "markdown",
   "metadata": {},
   "source": [
    "Let's look at the test set:"
   ]
  },
  {
   "cell_type": "code",
   "execution_count": null,
   "metadata": {},
   "outputs": [],
   "source": [
    "test_set_pred = lasso_model.predict(X_te)"
   ]
  },
  {
   "cell_type": "code",
   "execution_count": null,
   "metadata": {},
   "outputs": [],
   "source": [
    "mae(y_test, test_set_pred)"
   ]
  },
  {
   "cell_type": "markdown",
   "metadata": {},
   "source": [
    "Within this use case, being off by 13.14 is basically saying on average, you could predict someone to be 13% above or below league average, when they are a league average player.  Not awful."
   ]
  },
  {
   "cell_type": "code",
   "execution_count": null,
   "metadata": {
    "scrolled": false
   },
   "outputs": [],
   "source": [
    "r2_score(y_test, test_set_pred)"
   ]
  },
  {
   "cell_type": "markdown",
   "metadata": {},
   "source": [
    "Residual Plot:"
   ]
  },
  {
   "cell_type": "code",
   "execution_count": null,
   "metadata": {
    "scrolled": false
   },
   "outputs": [],
   "source": [
    "plt.scatter(test_set_pred, y_test, alpha=.3)\n",
    "plt.plot(np.linspace(40,200), np.linspace(40,200), color='red')\n",
    "plt.xlabel('wRC+ Predictions on Test Data - Lasso Regression', size=20)\n",
    "plt.ylabel('Actual Test Data wRC+ Values', size=20)\n",
    "plt.title('LASSO Regression Model: wRC+', size=40)"
   ]
  },
  {
   "cell_type": "code",
   "execution_count": null,
   "metadata": {},
   "outputs": [],
   "source": [
    "std = StandardScaler()\n",
    "std.fit(combined_df[columns])\n",
    "X_new = std.transform(combined_df[columns])"
   ]
  },
  {
   "cell_type": "code",
   "execution_count": null,
   "metadata": {},
   "outputs": [],
   "source": [
    "combined_df['prediction'] = lasso_model.predict(X_new)"
   ]
  },
  {
   "cell_type": "code",
   "execution_count": null,
   "metadata": {},
   "outputs": [],
   "source": [
    "combined_df['residual'] = combined_df['wRC+'] - combined_df.prediction"
   ]
  },
  {
   "cell_type": "code",
   "execution_count": null,
   "metadata": {},
   "outputs": [],
   "source": [
    "with sns.axes_style('white'):\n",
    "    plot=combined_df.plot(kind='scatter',\n",
    "                  x='prediction',y='residual',alpha=0.2,figsize=(10,6))"
   ]
  },
  {
   "cell_type": "markdown",
   "metadata": {},
   "source": [
    "Looking at under predictions:"
   ]
  },
  {
   "cell_type": "code",
   "execution_count": null,
   "metadata": {},
   "outputs": [],
   "source": [
    "combined_df.sort_values(by='residual', ascending=False).head(10)"
   ]
  },
  {
   "cell_type": "markdown",
   "metadata": {},
   "source": [
    "Guys with high walk rates are gone, with the remaining being BABIP outliers"
   ]
  },
  {
   "cell_type": "markdown",
   "metadata": {},
   "source": [
    "BABIP on above:"
   ]
  },
  {
   "cell_type": "markdown",
   "metadata": {},
   "source": [
    "- Nelson Cruz 2020: .360\n",
    "- LaMahieu 2020: BABIP of .370 - that is extremely high.  Won the AL Batting Title in 2020.\n",
    "- Chris Colabello 2015: .411 BABIP, which is insane.\n",
    "- Enrique Hernandez 2015: .359\n",
    "- Andres Blanco 2015: .335\n",
    "- Tim Anderson 2020: .383 BABIP\n",
    "- Bregman 2019: BABIP of .281, that's not that odd, and even unlucky.  Walk rate of 17.2% - no. 3 in baseball in 2019. Finished second in 2019 MVP voting.\n",
    "- Suarez: .341 BABIP"
   ]
  },
  {
   "cell_type": "markdown",
   "metadata": {},
   "source": [
    "And Over predictions:"
   ]
  },
  {
   "cell_type": "code",
   "execution_count": null,
   "metadata": {
    "scrolled": true
   },
   "outputs": [],
   "source": [
    "combined_df.sort_values(by='residual', ascending=True).head(10)"
   ]
  },
  {
   "cell_type": "code",
   "execution_count": null,
   "metadata": {},
   "outputs": [],
   "source": [
    "combined_df[abs(combined_df['residual']) < 1]"
   ]
  },
  {
   "cell_type": "code",
   "execution_count": null,
   "metadata": {},
   "outputs": [],
   "source": [
    "combined_df.iloc[1813, :]"
   ]
  },
  {
   "cell_type": "code",
   "execution_count": null,
   "metadata": {},
   "outputs": [],
   "source": [
    "combined_df.describe()"
   ]
  },
  {
   "cell_type": "markdown",
   "metadata": {},
   "source": [
    "[('Age', -0.6521835889358321),  \n",
    " ('BB%', 8.675256674514575),  \n",
    " ('Avg EV (MPH)', 3.5726351480221483),  \n",
    " ('Avg LA (°)', -1.033932357640315),  \n",
    " ('Barrel%', 15.121872532378818),  \n",
    " ('Solid Contact %', 2.3553107287148696),  \n",
    " ('Flare/Burner %', 3.018781878110574),  \n",
    " ('Under %', -5.115094810006683),  \n",
    " ('Topped %', -4.507120740837057),  \n",
    " ('Poor/Weak %', 0.46650292096659596),  \n",
    " ('Zone Swing %', 2.436999223817527),  \n",
    " ('Out of Zone Swing %', 4.492451690156418),  \n",
    " ('In Zone Contact %', -2.7813635949242554),  \n",
    " ('Whiff %', -17.103809920822854),  \n",
    " ('Pull %', 1.122068670229163),  \n",
    " ('Straight Away %', -0.431191517170922),  \n",
    " ('Sprint Speed', 5.328937849116626),  \n",
    " ('Oppo %', -0.0),  \n",
    " ('First Strike %', -0.42862842122467953)]  "
   ]
  },
  {
   "cell_type": "code",
   "execution_count": null,
   "metadata": {},
   "outputs": [],
   "source": [
    "plt.scatter(combined_df['prediction'], combined_df['wRC+'], alpha=.2)\n",
    "plt.plot(np.linspace(40,200), np.linspace(40,200), color='red')\n",
    "plt.xlabel('wRC+ Predictions on Full Data - Lasso Regression', size=20)\n",
    "plt.ylabel('Actual Test Data wRC+ Values', size=20)\n",
    "plt.title('LASSO Regression Model: wRC+', size=40)"
   ]
  },
  {
   "cell_type": "code",
   "execution_count": null,
   "metadata": {},
   "outputs": [],
   "source": []
  },
  {
   "cell_type": "markdown",
   "metadata": {},
   "source": [
    "## BABIP - Taking this into account:"
   ]
  },
  {
   "cell_type": "markdown",
   "metadata": {},
   "source": [
    "Using FanGraphs Data, combine wRC+ and BABIP into one dataframe:"
   ]
  },
  {
   "cell_type": "code",
   "execution_count": 19,
   "metadata": {},
   "outputs": [],
   "source": [
    "wrc_url = 'https://www.fangraphs.com/leaders/season-stat-grid?position=B&seasonStart=2015&seasonEnd=2020&stat=wRC%2B&pastMinPt=200&curMinPt=0&mode=normal'"
   ]
  },
  {
   "cell_type": "code",
   "execution_count": 20,
   "metadata": {},
   "outputs": [],
   "source": [
    "babip_url = 'https://www.fangraphs.com/leaders/season-stat-grid?position=B&seasonStart=2015&seasonEnd=2020&stat=BABIP&pastMinPt=200&curMinPt=0&mode=normal'"
   ]
  },
  {
   "cell_type": "code",
   "execution_count": 22,
   "metadata": {},
   "outputs": [],
   "source": [
    "fg_wrc_df = wRC_DataFrame_Shifter(wrc_url)"
   ]
  },
  {
   "cell_type": "code",
   "execution_count": 23,
   "metadata": {},
   "outputs": [],
   "source": [
    "fg_babip_df = wRC_DataFrame_Shifter(babip_url)"
   ]
  },
  {
   "cell_type": "code",
   "execution_count": 24,
   "metadata": {},
   "outputs": [
    {
     "data": {
      "text/html": [
       "<div>\n",
       "<style scoped>\n",
       "    .dataframe tbody tr th:only-of-type {\n",
       "        vertical-align: middle;\n",
       "    }\n",
       "\n",
       "    .dataframe tbody tr th {\n",
       "        vertical-align: top;\n",
       "    }\n",
       "\n",
       "    .dataframe thead th {\n",
       "        text-align: right;\n",
       "    }\n",
       "</style>\n",
       "<table border=\"1\" class=\"dataframe\">\n",
       "  <thead>\n",
       "    <tr style=\"text-align: right;\">\n",
       "      <th></th>\n",
       "      <th>Name-Year</th>\n",
       "      <th>wRC+</th>\n",
       "    </tr>\n",
       "  </thead>\n",
       "  <tbody>\n",
       "    <tr>\n",
       "      <th>0</th>\n",
       "      <td>Michael Lorenzen-2015</td>\n",
       "      <td>0</td>\n",
       "    </tr>\n",
       "    <tr>\n",
       "      <th>1</th>\n",
       "      <td>Michael Lorenzen-2016</td>\n",
       "      <td>0</td>\n",
       "    </tr>\n",
       "    <tr>\n",
       "      <th>2</th>\n",
       "      <td>Michael Lorenzen-2017</td>\n",
       "      <td>0</td>\n",
       "    </tr>\n",
       "    <tr>\n",
       "      <th>3</th>\n",
       "      <td>Michael Lorenzen-2018</td>\n",
       "      <td>0</td>\n",
       "    </tr>\n",
       "    <tr>\n",
       "      <th>4</th>\n",
       "      <td>Michael Lorenzen-2019</td>\n",
       "      <td>0</td>\n",
       "    </tr>\n",
       "  </tbody>\n",
       "</table>\n",
       "</div>"
      ],
      "text/plain": [
       "               Name-Year wRC+\n",
       "0  Michael Lorenzen-2015    0\n",
       "1  Michael Lorenzen-2016    0\n",
       "2  Michael Lorenzen-2017    0\n",
       "3  Michael Lorenzen-2018    0\n",
       "4  Michael Lorenzen-2019    0"
      ]
     },
     "execution_count": 24,
     "metadata": {},
     "output_type": "execute_result"
    }
   ],
   "source": [
    "fg_wrc_df.head()"
   ]
  },
  {
   "cell_type": "code",
   "execution_count": 25,
   "metadata": {},
   "outputs": [
    {
     "data": {
      "text/html": [
       "<div>\n",
       "<style scoped>\n",
       "    .dataframe tbody tr th:only-of-type {\n",
       "        vertical-align: middle;\n",
       "    }\n",
       "\n",
       "    .dataframe tbody tr th {\n",
       "        vertical-align: top;\n",
       "    }\n",
       "\n",
       "    .dataframe thead th {\n",
       "        text-align: right;\n",
       "    }\n",
       "</style>\n",
       "<table border=\"1\" class=\"dataframe\">\n",
       "  <thead>\n",
       "    <tr style=\"text-align: right;\">\n",
       "      <th></th>\n",
       "      <th>Name-Year</th>\n",
       "      <th>wRC+</th>\n",
       "    </tr>\n",
       "  </thead>\n",
       "  <tbody>\n",
       "    <tr>\n",
       "      <th>0</th>\n",
       "      <td>René Rivera-2015</td>\n",
       "      <td>.230</td>\n",
       "    </tr>\n",
       "    <tr>\n",
       "      <th>1</th>\n",
       "      <td>René Rivera-2016</td>\n",
       "      <td>.276</td>\n",
       "    </tr>\n",
       "    <tr>\n",
       "      <th>2</th>\n",
       "      <td>René Rivera-2017</td>\n",
       "      <td>.324</td>\n",
       "    </tr>\n",
       "    <tr>\n",
       "      <th>3</th>\n",
       "      <td>René Rivera-2018</td>\n",
       "      <td>0</td>\n",
       "    </tr>\n",
       "    <tr>\n",
       "      <th>4</th>\n",
       "      <td>René Rivera-2019</td>\n",
       "      <td>0</td>\n",
       "    </tr>\n",
       "  </tbody>\n",
       "</table>\n",
       "</div>"
      ],
      "text/plain": [
       "          Name-Year  wRC+\n",
       "0  René Rivera-2015  .230\n",
       "1  René Rivera-2016  .276\n",
       "2  René Rivera-2017  .324\n",
       "3  René Rivera-2018     0\n",
       "4  René Rivera-2019     0"
      ]
     },
     "execution_count": 25,
     "metadata": {},
     "output_type": "execute_result"
    }
   ],
   "source": [
    "fg_babip_df.head()"
   ]
  },
  {
   "cell_type": "code",
   "execution_count": 30,
   "metadata": {},
   "outputs": [],
   "source": [
    "fg_babip_df.rename(columns={'wRC+':'BABIP'}, inplace=True)"
   ]
  },
  {
   "cell_type": "code",
   "execution_count": 52,
   "metadata": {},
   "outputs": [],
   "source": [
    "new_babip_df = fg_wrc_df.merge(fg_babip_df, how='left', on='Name-Year')"
   ]
  },
  {
   "cell_type": "code",
   "execution_count": 53,
   "metadata": {},
   "outputs": [
    {
     "data": {
      "text/html": [
       "<div>\n",
       "<style scoped>\n",
       "    .dataframe tbody tr th:only-of-type {\n",
       "        vertical-align: middle;\n",
       "    }\n",
       "\n",
       "    .dataframe tbody tr th {\n",
       "        vertical-align: top;\n",
       "    }\n",
       "\n",
       "    .dataframe thead th {\n",
       "        text-align: right;\n",
       "    }\n",
       "</style>\n",
       "<table border=\"1\" class=\"dataframe\">\n",
       "  <thead>\n",
       "    <tr style=\"text-align: right;\">\n",
       "      <th></th>\n",
       "      <th>Name-Year</th>\n",
       "      <th>wRC+</th>\n",
       "      <th>BABIP</th>\n",
       "    </tr>\n",
       "  </thead>\n",
       "  <tbody>\n",
       "    <tr>\n",
       "      <th>0</th>\n",
       "      <td>Michael Lorenzen-2015</td>\n",
       "      <td>0</td>\n",
       "      <td>0</td>\n",
       "    </tr>\n",
       "    <tr>\n",
       "      <th>1</th>\n",
       "      <td>Michael Lorenzen-2016</td>\n",
       "      <td>0</td>\n",
       "      <td>0</td>\n",
       "    </tr>\n",
       "    <tr>\n",
       "      <th>2</th>\n",
       "      <td>Michael Lorenzen-2017</td>\n",
       "      <td>0</td>\n",
       "      <td>0</td>\n",
       "    </tr>\n",
       "    <tr>\n",
       "      <th>3</th>\n",
       "      <td>Michael Lorenzen-2018</td>\n",
       "      <td>0</td>\n",
       "      <td>0</td>\n",
       "    </tr>\n",
       "    <tr>\n",
       "      <th>4</th>\n",
       "      <td>Michael Lorenzen-2019</td>\n",
       "      <td>0</td>\n",
       "      <td>0</td>\n",
       "    </tr>\n",
       "  </tbody>\n",
       "</table>\n",
       "</div>"
      ],
      "text/plain": [
       "               Name-Year wRC+ BABIP\n",
       "0  Michael Lorenzen-2015    0     0\n",
       "1  Michael Lorenzen-2016    0     0\n",
       "2  Michael Lorenzen-2017    0     0\n",
       "3  Michael Lorenzen-2018    0     0\n",
       "4  Michael Lorenzen-2019    0     0"
      ]
     },
     "execution_count": 53,
     "metadata": {},
     "output_type": "execute_result"
    }
   ],
   "source": [
    "new_babip_df.head()"
   ]
  },
  {
   "cell_type": "code",
   "execution_count": 54,
   "metadata": {},
   "outputs": [
    {
     "name": "stdout",
     "output_type": "stream",
     "text": [
      "<class 'pandas.core.frame.DataFrame'>\n",
      "Int64Index: 5046 entries, 0 to 5045\n",
      "Data columns (total 3 columns):\n",
      " #   Column     Non-Null Count  Dtype \n",
      "---  ------     --------------  ----- \n",
      " 0   Name-Year  5046 non-null   object\n",
      " 1   wRC+       5046 non-null   object\n",
      " 2   BABIP      5046 non-null   object\n",
      "dtypes: object(3)\n",
      "memory usage: 157.7+ KB\n"
     ]
    }
   ],
   "source": [
    "new_babip_df.info()"
   ]
  },
  {
   "cell_type": "code",
   "execution_count": 55,
   "metadata": {},
   "outputs": [],
   "source": [
    "new_babip_df = new_babip_df.astype({'wRC+':'float64', 'BABIP':'float64'})"
   ]
  },
  {
   "cell_type": "code",
   "execution_count": 56,
   "metadata": {},
   "outputs": [
    {
     "name": "stdout",
     "output_type": "stream",
     "text": [
      "<class 'pandas.core.frame.DataFrame'>\n",
      "Int64Index: 5046 entries, 0 to 5045\n",
      "Data columns (total 3 columns):\n",
      " #   Column     Non-Null Count  Dtype  \n",
      "---  ------     --------------  -----  \n",
      " 0   Name-Year  5046 non-null   object \n",
      " 1   wRC+       5046 non-null   float64\n",
      " 2   BABIP      5046 non-null   float64\n",
      "dtypes: float64(2), object(1)\n",
      "memory usage: 157.7+ KB\n"
     ]
    }
   ],
   "source": [
    "new_babip_df.info()"
   ]
  },
  {
   "cell_type": "code",
   "execution_count": 58,
   "metadata": {},
   "outputs": [
    {
     "data": {
      "text/html": [
       "<div>\n",
       "<style scoped>\n",
       "    .dataframe tbody tr th:only-of-type {\n",
       "        vertical-align: middle;\n",
       "    }\n",
       "\n",
       "    .dataframe tbody tr th {\n",
       "        vertical-align: top;\n",
       "    }\n",
       "\n",
       "    .dataframe thead th {\n",
       "        text-align: right;\n",
       "    }\n",
       "</style>\n",
       "<table border=\"1\" class=\"dataframe\">\n",
       "  <thead>\n",
       "    <tr style=\"text-align: right;\">\n",
       "      <th></th>\n",
       "      <th>Name-Year</th>\n",
       "      <th>wRC+</th>\n",
       "      <th>BABIP</th>\n",
       "    </tr>\n",
       "  </thead>\n",
       "  <tbody>\n",
       "    <tr>\n",
       "      <th>0</th>\n",
       "      <td>Michael Lorenzen-2015</td>\n",
       "      <td>0.0</td>\n",
       "      <td>0.0</td>\n",
       "    </tr>\n",
       "    <tr>\n",
       "      <th>1</th>\n",
       "      <td>Michael Lorenzen-2016</td>\n",
       "      <td>0.0</td>\n",
       "      <td>0.0</td>\n",
       "    </tr>\n",
       "    <tr>\n",
       "      <th>2</th>\n",
       "      <td>Michael Lorenzen-2017</td>\n",
       "      <td>0.0</td>\n",
       "      <td>0.0</td>\n",
       "    </tr>\n",
       "    <tr>\n",
       "      <th>3</th>\n",
       "      <td>Michael Lorenzen-2018</td>\n",
       "      <td>0.0</td>\n",
       "      <td>0.0</td>\n",
       "    </tr>\n",
       "    <tr>\n",
       "      <th>4</th>\n",
       "      <td>Michael Lorenzen-2019</td>\n",
       "      <td>0.0</td>\n",
       "      <td>0.0</td>\n",
       "    </tr>\n",
       "    <tr>\n",
       "      <th>...</th>\n",
       "      <td>...</td>\n",
       "      <td>...</td>\n",
       "      <td>...</td>\n",
       "    </tr>\n",
       "    <tr>\n",
       "      <th>5039</th>\n",
       "      <td>Mark Trumbo-2020</td>\n",
       "      <td>0.0</td>\n",
       "      <td>0.0</td>\n",
       "    </tr>\n",
       "    <tr>\n",
       "      <th>5042</th>\n",
       "      <td>Derek Norris-2017</td>\n",
       "      <td>0.0</td>\n",
       "      <td>0.0</td>\n",
       "    </tr>\n",
       "    <tr>\n",
       "      <th>5043</th>\n",
       "      <td>Derek Norris-2018</td>\n",
       "      <td>0.0</td>\n",
       "      <td>0.0</td>\n",
       "    </tr>\n",
       "    <tr>\n",
       "      <th>5044</th>\n",
       "      <td>Derek Norris-2019</td>\n",
       "      <td>0.0</td>\n",
       "      <td>0.0</td>\n",
       "    </tr>\n",
       "    <tr>\n",
       "      <th>5045</th>\n",
       "      <td>Derek Norris-2020</td>\n",
       "      <td>0.0</td>\n",
       "      <td>0.0</td>\n",
       "    </tr>\n",
       "  </tbody>\n",
       "</table>\n",
       "<p>2700 rows × 3 columns</p>\n",
       "</div>"
      ],
      "text/plain": [
       "                  Name-Year  wRC+  BABIP\n",
       "0     Michael Lorenzen-2015   0.0    0.0\n",
       "1     Michael Lorenzen-2016   0.0    0.0\n",
       "2     Michael Lorenzen-2017   0.0    0.0\n",
       "3     Michael Lorenzen-2018   0.0    0.0\n",
       "4     Michael Lorenzen-2019   0.0    0.0\n",
       "...                     ...   ...    ...\n",
       "5039       Mark Trumbo-2020   0.0    0.0\n",
       "5042      Derek Norris-2017   0.0    0.0\n",
       "5043      Derek Norris-2018   0.0    0.0\n",
       "5044      Derek Norris-2019   0.0    0.0\n",
       "5045      Derek Norris-2020   0.0    0.0\n",
       "\n",
       "[2700 rows x 3 columns]"
      ]
     },
     "execution_count": 58,
     "metadata": {},
     "output_type": "execute_result"
    }
   ],
   "source": [
    "new_babip_df[(new_babip_df['wRC+'] == 0) & (new_babip_df['BABIP'] == 0)]"
   ]
  },
  {
   "cell_type": "markdown",
   "metadata": {},
   "source": [
    "Pulling out doubel zeroes, since that means the player didn't play that year:"
   ]
  },
  {
   "cell_type": "code",
   "execution_count": 59,
   "metadata": {},
   "outputs": [],
   "source": [
    "non_zero_babip_df = new_babip_df[(new_babip_df['wRC+'] != 0) & (new_babip_df['BABIP'] != 0)]"
   ]
  },
  {
   "cell_type": "code",
   "execution_count": 60,
   "metadata": {},
   "outputs": [
    {
     "name": "stdout",
     "output_type": "stream",
     "text": [
      "<class 'pandas.core.frame.DataFrame'>\n",
      "Int64Index: 2318 entries, 16 to 5041\n",
      "Data columns (total 3 columns):\n",
      " #   Column     Non-Null Count  Dtype  \n",
      "---  ------     --------------  -----  \n",
      " 0   Name-Year  2318 non-null   object \n",
      " 1   wRC+       2318 non-null   float64\n",
      " 2   BABIP      2318 non-null   float64\n",
      "dtypes: float64(2), object(1)\n",
      "memory usage: 72.4+ KB\n"
     ]
    }
   ],
   "source": [
    "non_zero_babip_df.info()"
   ]
  },
  {
   "cell_type": "markdown",
   "metadata": {},
   "source": [
    "Running regression analysis solely on the BABIP data:"
   ]
  },
  {
   "cell_type": "code",
   "execution_count": 64,
   "metadata": {},
   "outputs": [
    {
     "name": "stdout",
     "output_type": "stream",
     "text": [
      "Simple Linear Regression Results:\n",
      "Simple Linear Regression val R^2: 0.328\n",
      "[('BABIP', 15.762324164894778)]\n",
      "\n",
      "\n",
      "Simple Linear Regression w/ KFOLD CV Results:\n",
      "Simple regression scores:  [0.3367254083121245, 0.1410914911551444, 0.30533694921233157, 0.23351473451595994, 0.24717814306342067] \n",
      "\n",
      "Simple mean cv r^2: 0.253 +- 0.067\n",
      "\n",
      "\n",
      "Lasso Linear Regression w/ CV Results:\n",
      "Lasso R^2: 0.25854884883835394\n",
      "Lasso mae: 20.73227523727721\n",
      "Lasso Coefficients: [('BABIP', 16.454785294540077)]\n",
      "\n",
      "\n",
      "Ridge Linear Regression w/ CV Results:\n",
      "Ridge R^2: 0.2586203864336306\n",
      "Ridge mae: 20.718710038636267\n",
      "Ridge Coefficients: [('BABIP', 16.65760492624491)]\n",
      "\n",
      "\n",
      "ElasticNet Linear Regression w/ CV Results:\n",
      "ElasticNet R^2: 0.2581010496380586\n",
      "ElasticNet mae: 20.76711449406954\n",
      "ElasticNet Coefficients: [('BABIP', 15.991618660405901)]\n"
     ]
    }
   ],
   "source": [
    "validation_comparer(non_zero_babip_df[['BABIP']], non_zero_babip_df['wRC+'])"
   ]
  },
  {
   "cell_type": "markdown",
   "metadata": {},
   "source": [
    "Based on the above, BABIP accounts for ~25-30% of the variance of wRC+ in the training/val data.  This meshes with my model, which is at about 0.630 for the other metrics."
   ]
  }
 ],
 "metadata": {
  "kernelspec": {
   "display_name": "Python [conda env:metis] *",
   "language": "python",
   "name": "conda-env-metis-py"
  },
  "language_info": {
   "codemirror_mode": {
    "name": "ipython",
    "version": 3
   },
   "file_extension": ".py",
   "mimetype": "text/x-python",
   "name": "python",
   "nbconvert_exporter": "python",
   "pygments_lexer": "ipython3",
   "version": "3.8.6"
  }
 },
 "nbformat": 4,
 "nbformat_minor": 4
}
